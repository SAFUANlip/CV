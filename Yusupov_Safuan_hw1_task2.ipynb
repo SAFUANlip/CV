{
 "cells": [
  {
   "cell_type": "code",
   "execution_count": 1,
   "metadata": {
    "ExecuteTime": {
     "end_time": "2021-02-08T16:52:14.684026Z",
     "start_time": "2021-02-08T16:52:14.213719Z"
    }
   },
   "outputs": [],
   "source": [
    "import cv2\n",
    "import numpy as np\n",
    "import math\n",
    "\n",
    "import matplotlib.pyplot as plt\n",
    "%matplotlib inline"
   ]
  },
  {
   "cell_type": "code",
   "execution_count": 2,
   "metadata": {
    "ExecuteTime": {
     "end_time": "2021-02-08T16:52:14.718560Z",
     "start_time": "2021-02-08T16:52:14.708595Z"
    }
   },
   "outputs": [],
   "source": [
    "def plot_one_image(image: np.ndarray) -> None:\n",
    "    \"\"\"\n",
    "    Отобразить изображение с помощью matplotlib.\n",
    "    Вспомогательная функция.\n",
    "    \n",
    "    :param image: изображение для отображения\n",
    "    :return: None\n",
    "    \"\"\"\n",
    "    fig, axs = plt.subplots(1, 1, figsize=(8, 7))\n",
    "    \n",
    "    axs.imshow(image)\n",
    "    #axs.axis('off')\n",
    "    plt.plot()"
   ]
  },
  {
   "cell_type": "code",
   "execution_count": 3,
   "metadata": {},
   "outputs": [],
   "source": [
    "# import cv2\n",
    "# import numpy as np\n",
    "\n",
    "def find_road_number(image: np.ndarray) -> int:\n",
    "    road=[]\n",
    "    last=0\n",
    "    for i in range(image.shape[1]):\n",
    "        r=image[0][i][0]\n",
    "        g=image[0][i][1]\n",
    "        b=image[0][i][2]\n",
    "        if (250<=r<=255 and 251<=g<=252 and 120<=b<=121):\n",
    "            if(i!=0 and i-last>100):\n",
    "                road.append((last,i))\n",
    "            last=i\n",
    "            \n",
    "    #find cars and blocks\n",
    "    flags=np.zeros((2, len(road)), bool)\n",
    "    for i in range(len(road)):\n",
    "        mid = (road[i][1]-road[i][0])//2 + road[i][0]\n",
    "        for j in range(image.shape[0]):\n",
    "            r=image[j][mid][0]\n",
    "            g=image[j][mid][1]\n",
    "            b=image[j][mid][2]\n",
    "            if (250<=r<=255 and 36<=g<=40 and 0<=b<=2): #block\n",
    "                flags[0][i]=True\n",
    "            if (47<=r<=50 and 115<=g<=120 and 250<=b<=255): #car\n",
    "                flags[1][i]=True\n",
    "    \n",
    "    #wherer need go\n",
    "    openl = -1\n",
    "    for i in range(len(flags[0])):\n",
    "        if flags[0][i] == False:\n",
    "            openl=i \n",
    "        if flags[0][i] ==True and flags[1][i]==True:\n",
    "            if openl != -1:\n",
    "                return openl\n",
    "            else:\n",
    "                for j in range(i,len(flags[0])):\n",
    "                    if flags[0][j] == False:\n",
    "                        openl=j\n",
    "                        return openl"
   ]
  },
  {
   "cell_type": "code",
   "execution_count": 6,
   "metadata": {
    "ExecuteTime": {
     "end_time": "2020-09-09T16:50:48.843353Z",
     "start_time": "2020-09-09T16:50:48.635270Z"
    }
   },
   "outputs": [
    {
     "data": {
      "image/png": "[encoded data removed]",
      "text/plain": [
       "<Figure size 576x504 with 1 Axes>"
      ]
     },
     "metadata": {
      "needs_background": "light"
     },
     "output_type": "display_data"
    }
   ],
   "source": [
    "test_image = cv2.imread('C:/Users/User!!!!!!!!/cv_mipt_minor-master/week_01_images/homework/task_2/image_01.jpg')\n",
    "test_image = cv2.cvtColor(test_image, cv2.COLOR_BGR2RGB)\n",
    "plot_one_image(test_image)"
   ]
  },
  {
   "cell_type": "code",
   "execution_count": 7,
   "metadata": {
    "ExecuteTime": {
     "end_time": "2020-09-09T16:50:49.424361Z",
     "start_time": "2020-09-09T16:50:49.420353Z"
    }
   },
   "outputs": [
    {
     "name": "stdout",
     "output_type": "stream",
     "text": [
      "Нужно перестроиться на дорогу номер 3\n"
     ]
    }
   ],
   "source": [
    "road_number = find_road_number(test_image)\n",
    "print(f'Нужно перестроиться на дорогу номер {road_number}')"
   ]
  },
  {
   "cell_type": "code",
   "execution_count": null,
   "metadata": {},
   "outputs": [],
   "source": []
  }
 ],
 "metadata": {
  "kernelspec": {
   "display_name": "Python 3",
   "language": "python",
   "name": "python3"
  },
  "language_info": {
   "codemirror_mode": {
    "name": "ipython",
    "version": 3
   },
   "file_extension": ".py",
   "mimetype": "text/x-python",
   "name": "python",
   "nbconvert_exporter": "python",
   "pygments_lexer": "ipython3",
   "version": "3.8.3"
  }
 },
 "nbformat": 4,
 "nbformat_minor": 4
}
